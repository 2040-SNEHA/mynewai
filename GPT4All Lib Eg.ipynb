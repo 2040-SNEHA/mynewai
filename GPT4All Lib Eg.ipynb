import gpt4all
base = 'C:/Users/User/AppData'
MODELPATH = "C:/Users/User/AppData/Local/nomic.ai/GPT4All/ggml-mpt-7b-instruct.bin"
mpt = gpt4all.GPT4All(MODELPATH, model_type='mpt')
Found model file.
message = [{"role": "user", "content": "Name 3 colors"}]
task = 'name three colors'
prompt = f"""
### Instruction: 
The prompt below is a question to answer, a task to complete, or a conversation to respond to; decide which and write an appropriate response.
### Prompt: 
{task}
### Response:
"""
response = mpt.chat_completion(message); response 
### Instruction: 
            The prompt below is a question to answer, a task to complete, or a conversation 
            to respond to; decide which and write an appropriate response.
            
### Prompt: 
Name 3 colors
### Response:
